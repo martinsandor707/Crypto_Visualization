{
 "cells": [
  {
   "cell_type": "code",
   "execution_count": 60,
   "metadata": {},
   "outputs": [
    {
     "name": "stderr",
     "output_type": "stream",
     "text": [
      "[*********************100%***********************]  1 of 1 completed"
     ]
    },
    {
     "name": "stderr",
     "output_type": "stream",
     "text": [
      "\n",
      "[*********************100%***********************]  1 of 1 completed\n",
      "[*********************100%***********************]  1 of 1 completed"
     ]
    },
    {
     "name": "stdout",
     "output_type": "stream",
     "text": [
      "Price                       Date     Adj Close         Close          High  \\\n",
      "Ticker                                 BTC-EUR       BTC-EUR       BTC-EUR   \n",
      "0      2021-07-20 00:00:00+00:00  25299.851562  25299.851562  26284.099609   \n",
      "1      2021-07-21 00:00:00+00:00  27227.458984  27227.458984  27762.083984   \n",
      "2      2021-07-22 00:00:00+00:00  27447.947266  27447.947266  27691.796875   \n",
      "3      2021-07-23 00:00:00+00:00  28527.830078  28527.830078  28527.830078   \n",
      "4      2021-07-24 00:00:00+00:00  29132.255859  29132.255859  29300.416016   \n",
      "...                          ...           ...           ...           ...   \n",
      "1193   2024-10-25 00:00:00+00:00  62971.476562  62971.476562  63552.078125   \n",
      "1194   2024-10-26 00:00:00+00:00  61702.476562  61702.476562  63418.800781   \n",
      "1195   2024-10-27 00:00:00+00:00  62047.167969  62047.167969  62327.910156   \n",
      "1196   2024-10-28 00:00:00+00:00  62920.054688  62920.054688  63195.246094   \n",
      "1197   2024-10-29 00:00:00+00:00  64624.406250  64624.406250  64932.867188   \n",
      "\n",
      "Price            Low          Open       Volume  \n",
      "Ticker       BTC-EUR       BTC-EUR      BTC-EUR  \n",
      "0       24936.054688  26151.882812  19647763124  \n",
      "1       25073.488281  25290.460938  23914049599  \n",
      "2       26923.949219  27251.353516  16610936345  \n",
      "3       27234.623047  27441.876953  19158166209  \n",
      "4       28395.220703  28538.175781  18404688435  \n",
      "...              ...           ...          ...  \n",
      "1193    61630.593750  61829.777344  29022628293  \n",
      "1194    60664.925781  62975.394531  38395980249  \n",
      "1195    61441.550781  61689.816406  18136110792  \n",
      "1196    61892.105469  62055.296875  15488245193  \n",
      "1197    62625.328125  62913.921875  35867518690  \n",
      "\n",
      "[1198 rows x 7 columns]\n"
     ]
    },
    {
     "name": "stderr",
     "output_type": "stream",
     "text": [
      "\n"
     ]
    }
   ],
   "source": [
    "import yfinance as yf\n",
    "import numpy as np\n",
    "\n",
    "tickers = {}\n",
    "ticker_names = [\"BTC-EUR\", \"SOL-EUR\", \"ETH-EUR\"]\n",
    "for ticker in ticker_names:\n",
    "    tickers[ticker] = yf.download(ticker, start='2021-07-20', end='2024-10-30')\n",
    "    tickers[ticker].reset_index(inplace=True)\n",
    "\n",
    "print(tickers['BTC-EUR'])"
   ]
  },
  {
   "cell_type": "code",
   "execution_count": 61,
   "metadata": {},
   "outputs": [
    {
     "data": {
      "text/plain": [
       "{'BTC-EUR': '#892881', 'SOL-EUR': '#F56C5B', 'ETH-EUR': '#FBFCBF'}"
      ]
     },
     "execution_count": 61,
     "metadata": {},
     "output_type": "execute_result"
    }
   ],
   "source": [
    "#Generate color palette from magma palette, excluding dark colors\n",
    "from bokeh.palettes import Magma256\n",
    "color_codes = [int(num) for num in np.linspace(100,255, len(ticker_names))]\n",
    "colors = {k: v for k, v in zip(ticker_names, [Magma256[color] for color in color_codes])}\n",
    "colors"
   ]
  },
  {
   "cell_type": "code",
   "execution_count": 62,
   "metadata": {},
   "outputs": [
    {
     "name": "stderr",
     "output_type": "stream",
     "text": [
      "/tmp/ipykernel_25476/4188830622.py:13: UserWarning: no explicit representation of timezones available for np.datetime64\n",
      "  dates = np.array(tickers['BTC-EUR']['Date'], dtype=np.datetime64)\n"
     ]
    }
   ],
   "source": [
    "import numpy as np\n",
    "from bokeh.plotting import figure, output_file, show, column\n",
    "from bokeh.io import curdoc\n",
    "from bokeh.models import HoverTool, ColumnDataSource, RangeTool\n",
    "\n",
    "#Set dark theme to fit with magma palette\n",
    "curdoc().theme='dark_minimal'\n",
    "\n",
    "#The file to save the model\n",
    "output_file(\"test.html\")\n",
    "\n",
    "#Instantiate figure object\n",
    "dates = np.array(tickers['BTC-EUR']['Date'], dtype=np.datetime64)\n",
    "graph = figure(height=500, width=1000, x_axis_type = \"datetime\", title = \"Relative price changes\", \n",
    "               tools='tap,xpan,reset', x_axis_location = \"above\", x_range =(dates[-365], dates[-1])) \n",
    "\n",
    "select = figure(title=\"Drag the middle and edges of the selection box to change the range\",\n",
    "                height=150, width=1000, y_range=graph.y_range, x_axis_type=\"datetime\",\n",
    "                tools=\"\", toolbar_location=None)\n",
    "range_tool = RangeTool(x_range=graph.x_range)\n",
    "range_tool.overlay.fill_color = \"#900C3F\"\n",
    "range_tool.overlay.fill_alpha = 0.2\n",
    "\n",
    "\n",
    "#Names axes\n",
    "graph.xaxis.axis_label = 'Date'\n",
    "graph.yaxis.axis_label = 'Relative Price'\n",
    "\n",
    "#Plotting the line graph\n",
    "\n",
    "renderers = []\n",
    "for ticker_name in ticker_names:\n",
    "    tickers[ticker_name]['RelativeChange'] = tickers[ticker_name].Close / tickers[ticker_name].Close.iloc[0]\n",
    "    y_axis_coordinates = tickers[ticker_name]['RelativeChange']\n",
    "    tickers[ticker_name]['Legend_label'] = ticker_name\n",
    "\n",
    "    source = ColumnDataSource(tickers[ticker_name])\n",
    "    color = colors[ticker_name]\n",
    "    l = graph.line('Date_', 'RelativeChange_', source=source, color=color, legend_label = ticker_name)\n",
    "    renderers.append(l)\n",
    "\n",
    "    select.line('Date_', 'RelativeChange_', source=source, color=color)\n",
    "\n",
    "graph.legend.location = 'top_left'\n",
    "\n",
    "hover = HoverTool(tooltips=[(\"Crypto name: \", \"@Legend_label_\"),(\"Date: \", \"@Date_{%F}\"), (\"Price change: \", \"@RelativeChange_{0.000}\")],\n",
    "                   renderers=renderers, formatters={'@Date_': 'datetime'})\n",
    "graph.add_tools(hover)\n",
    "select.ygrid.grid_line_color=None\n",
    "select.add_tools(range_tool)\n",
    "\n",
    "show(column(graph,select))"
   ]
  },
  {
   "cell_type": "markdown",
   "metadata": {},
   "source": [
    "Some sandboxing with how the RangeTool works. Will probably omit from the actual visualization"
   ]
  },
  {
   "cell_type": "code",
   "execution_count": null,
   "metadata": {},
   "outputs": [
    {
     "name": "stderr",
     "output_type": "stream",
     "text": [
      "[*********************100%***********************]  1 of 1 completed\n",
      "/tmp/ipykernel_25476/311101863.py:9: UserWarning: no explicit representation of timezones available for np.datetime64\n",
      "  dates = np.array(data['Date'], dtype=np.datetime64)\n",
      "[*********************100%***********************]  1 of 1 completed\n"
     ]
    }
   ],
   "source": [
    "# https://www.geeksforgeeks.org/adding-tooltips-to-a-timeseries-chart-hover-tool-in-python-bokeh/\n",
    "import pandas as pd\n",
    "import numpy as np\n",
    "from bokeh.models import RangeTool, ColumnDataSource\n",
    "from bokeh.plotting import figure, show, column\n",
    "data = yf.download('SPY')\n",
    "data.reset_index(inplace=True)\n",
    "\n",
    "dates = np.array(data['Date'], dtype=np.datetime64)\n",
    "\n",
    "data['RelativeChange'] = data.Close / data.Close.iloc[0]\n",
    "source = ColumnDataSource(data)\n",
    "\n",
    "p = figure(height=300, width=1000,  x_axis_type = \"datetime\", title = \"Relative price changes\", tools='xpan',\n",
    "           toolbar_location = None, x_axis_location = \"above\", x_range =(dates[1500], dates[2500]))\n",
    "\n",
    "p.line('Date_', 'RelativeChange_', source=source)\n",
    "p.yaxis.axis_label=\"Relative Price\"\n",
    "\n",
    "select = figure(title=\"Drag the middle and edges of the selection box to change the range\",\n",
    "                height=150, width=1000, y_range=p.y_range, x_axis_type=\"datetime\",\n",
    "                tools=\"\", toolbar_location=None)\n",
    "\n",
    "range_tool = RangeTool(x_range=p.x_range)\n",
    "range_tool.overlay.fill_color = \"navy\"\n",
    "range_tool.overlay.fill_alpha = 0.2\n",
    "\n",
    "select.line('Date_', 'RelativeChange_', source=source)\n",
    "\n",
    "data2 = yf.download('NVDA')\n",
    "source2 = ColumnDataSource(data2)\n",
    "p.line('Date', 'Adj Close_NVDA', source=source2) \n",
    "select.line('Date', 'Adj Close_NVDA', source=source2)\n",
    "\n",
    "\n",
    "\n",
    "select.ygrid.grid_line_color=None\n",
    "select.add_tools(range_tool)\n",
    "#select.toolbar.active_multi = range_tool\n",
    "\n",
    "show(column(p,select))"
   ]
  },
  {
   "cell_type": "code",
   "execution_count": null,
   "metadata": {},
   "outputs": [],
   "source": []
  }
 ],
 "metadata": {
  "kernelspec": {
   "display_name": ".venv",
   "language": "python",
   "name": "python3"
  },
  "language_info": {
   "codemirror_mode": {
    "name": "ipython",
    "version": 3
   },
   "file_extension": ".py",
   "mimetype": "text/x-python",
   "name": "python",
   "nbconvert_exporter": "python",
   "pygments_lexer": "ipython3",
   "version": "3.11.9"
  }
 },
 "nbformat": 4,
 "nbformat_minor": 2
}
