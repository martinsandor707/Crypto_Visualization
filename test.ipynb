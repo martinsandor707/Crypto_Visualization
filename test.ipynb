{
 "cells": [
  {
   "cell_type": "code",
   "execution_count": null,
   "metadata": {},
   "outputs": [
    {
     "name": "stderr",
     "output_type": "stream",
     "text": [
      "[*********************100%***********************]  1 of 1 completed\n",
      "[*********************100%***********************]  1 of 1 completed\n",
      "[*********************100%***********************]  1 of 1 completed"
     ]
    },
    {
     "name": "stdout",
     "output_type": "stream",
     "text": [
      "Price                         Adj Close         Close          High  \\\n",
      "Ticker                          BTC-EUR       BTC-EUR       BTC-EUR   \n",
      "Date                                                                  \n",
      "2021-07-20 00:00:00+00:00  25299.851562  25299.851562  26284.099609   \n",
      "2021-07-21 00:00:00+00:00  27227.458984  27227.458984  27762.083984   \n",
      "2021-07-22 00:00:00+00:00  27447.947266  27447.947266  27691.796875   \n",
      "2021-07-23 00:00:00+00:00  28527.830078  28527.830078  28527.830078   \n",
      "2021-07-24 00:00:00+00:00  29132.255859  29132.255859  29300.416016   \n",
      "...                                 ...           ...           ...   \n",
      "2024-10-25 00:00:00+00:00  62971.476562  62971.476562  63552.078125   \n",
      "2024-10-26 00:00:00+00:00  61702.476562  61702.476562  63418.800781   \n",
      "2024-10-27 00:00:00+00:00  62047.167969  62047.167969  62327.910156   \n",
      "2024-10-28 00:00:00+00:00  62920.054688  62920.054688  63195.246094   \n",
      "2024-10-29 00:00:00+00:00  64624.406250  64624.406250  64932.867188   \n",
      "\n",
      "Price                               Low          Open       Volume  \n",
      "Ticker                          BTC-EUR       BTC-EUR      BTC-EUR  \n",
      "Date                                                                \n",
      "2021-07-20 00:00:00+00:00  24936.054688  26151.882812  19647763124  \n",
      "2021-07-21 00:00:00+00:00  25073.488281  25290.460938  23914049599  \n",
      "2021-07-22 00:00:00+00:00  26923.949219  27251.353516  16610936345  \n",
      "2021-07-23 00:00:00+00:00  27234.623047  27441.876953  19158166209  \n",
      "2021-07-24 00:00:00+00:00  28395.220703  28538.175781  18404688435  \n",
      "...                                 ...           ...          ...  \n",
      "2024-10-25 00:00:00+00:00  61630.593750  61829.777344  29022628293  \n",
      "2024-10-26 00:00:00+00:00  60664.925781  62975.394531  38395980249  \n",
      "2024-10-27 00:00:00+00:00  61441.550781  61689.816406  18136110792  \n",
      "2024-10-28 00:00:00+00:00  61892.105469  62055.296875  15488245193  \n",
      "2024-10-29 00:00:00+00:00  62625.328125  62913.921875  35867518690  \n",
      "\n",
      "[1198 rows x 6 columns]\n"
     ]
    },
    {
     "name": "stderr",
     "output_type": "stream",
     "text": [
      "\n"
     ]
    }
   ],
   "source": [
    "import yfinance as yf\n",
    "import numpy as np\n",
    "\n",
    "tickers = {}\n",
    "ticker_names = [\"BTC-EUR\", \"SOL-EUR\", \"ETH-EUR\"]\n",
    "for ticker in ticker_names:\n",
    "    tickers[ticker] = yf.download(ticker, start='2021-07-20', end='2024-10-30')\n",
    "\n",
    "print(tickers['BTC-EUR'])"
   ]
  },
  {
   "cell_type": "code",
   "execution_count": null,
   "metadata": {},
   "outputs": [
    {
     "data": {
      "text/plain": [
       "{'BTC-EUR': '#892881', 'SOL-EUR': '#F56C5B', 'ETH-EUR': '#FBFCBF'}"
      ]
     },
     "execution_count": 21,
     "metadata": {},
     "output_type": "execute_result"
    }
   ],
   "source": [
    "#Generate color palette from magma palette, excluding dark colors\n",
    "from bokeh.palettes import Magma256\n",
    "color_codes = [int(num) for num in np.linspace(100,255, len(ticker_names))]\n",
    "colors = {k: v for k, v in zip(ticker_names, [Magma256[color] for color in color_codes])}\n",
    "colors"
   ]
  },
  {
   "cell_type": "code",
   "execution_count": 24,
   "metadata": {},
   "outputs": [],
   "source": [
    "import numpy as np\n",
    "from bokeh.plotting import figure, output_file, show \n",
    "from bokeh.io import curdoc\n",
    "\n",
    "#Set dark theme to fit with magma palette\n",
    "curdoc().theme='dark_minimal'\n",
    "\n",
    "#The file to save the model\n",
    "output_file(\"test.html\")\n",
    "\n",
    "#Instantiate figure object\n",
    "graph = figure(x_axis_type = \"datetime\", title = \"Relative price changes\", tools='tap,pan,wheel_zoom,box_zoom,reset') \n",
    "\n",
    "#Names axes\n",
    "graph.xaxis.axis_label = 'Date'\n",
    "graph.yaxis.axis_label = 'Relative Price'\n",
    "\n",
    "#Plotting the line graph\n",
    "x_axis_coordinates = np.array(tickers['BTC-EUR'].index.values, dtype=np.datetime64)\n",
    "for ticker_name in ticker_names:\n",
    "    y_axis_coordinates = tickers[ticker_name].Close / tickers[ticker_name].Close.iloc[0]\n",
    "    color = colors[ticker_name]\n",
    "    legend_label = ticker_name\n",
    "    graph.line(x_axis_coordinates, y_axis_coordinates, color=color, legend_label = legend_label)\n",
    "graph.legend.location = 'top_left'\n",
    "show(graph)"
   ]
  },
  {
   "cell_type": "code",
   "execution_count": null,
   "metadata": {},
   "outputs": [],
   "source": []
  }
 ],
 "metadata": {
  "kernelspec": {
   "display_name": ".venv",
   "language": "python",
   "name": "python3"
  },
  "language_info": {
   "codemirror_mode": {
    "name": "ipython",
    "version": 3
   },
   "file_extension": ".py",
   "mimetype": "text/x-python",
   "name": "python",
   "nbconvert_exporter": "python",
   "pygments_lexer": "ipython3",
   "version": "3.11.9"
  }
 },
 "nbformat": 4,
 "nbformat_minor": 2
}
