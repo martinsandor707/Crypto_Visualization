{
 "cells": [
  {
   "cell_type": "code",
   "execution_count": 107,
   "metadata": {},
   "outputs": [
    {
     "name": "stderr",
     "output_type": "stream",
     "text": [
      "[*********************100%***********************]  1 of 1 completed\n",
      "[*********************100%***********************]  1 of 1 completed\n",
      "[*********************100%***********************]  1 of 1 completed\n",
      "[*********************100%***********************]  1 of 1 completed\n",
      "[*********************100%***********************]  1 of 1 completed"
     ]
    },
    {
     "name": "stdout",
     "output_type": "stream",
     "text": [
      "Price                       Date     Adj Close         Close          High  \\\n",
      "Ticker                                 BTC-EUR       BTC-EUR       BTC-EUR   \n",
      "0      2019-12-01 00:00:00+00:00   6737.856934   6737.856934   6871.945801   \n",
      "1      2019-12-02 00:00:00+00:00   6610.979004   6610.979004   6784.325195   \n",
      "2      2019-12-03 00:00:00+00:00   6604.842773   6604.842773   6690.274902   \n",
      "3      2019-12-04 00:00:00+00:00   6543.503418   6543.503418   6797.561035   \n",
      "4      2019-12-05 00:00:00+00:00   6707.200684   6707.200684   6978.241211   \n",
      "...                          ...           ...           ...           ...   \n",
      "1799   2024-11-03 00:00:00+00:00  63717.242188  63717.242188  64272.445312   \n",
      "1800   2024-11-04 00:00:00+00:00  63222.648438  63222.648438  63783.800781   \n",
      "1801   2024-11-05 00:00:00+00:00  62362.378906  62362.378906  63730.976562   \n",
      "1802   2024-11-06 00:00:00+00:00  63434.734375  63434.734375  64594.289062   \n",
      "1803   2024-11-07 00:00:00+00:00  70484.195312  70484.195312  71226.382812   \n",
      "\n",
      "Price            Low          Open        Volume  \n",
      "Ticker       BTC-EUR       BTC-EUR       BTC-EUR  \n",
      "0        6617.570801   6871.945801   16989829215  \n",
      "1        6564.729492   6737.624512   15423272061  \n",
      "2        6528.000977   6612.773438   13351519852  \n",
      "3        6473.701172   6604.824219   19547622916  \n",
      "4        6526.304688   6544.592773   16943884751  \n",
      "...              ...           ...           ...  \n",
      "1799    63505.570312  63921.652344   16722260141  \n",
      "1800    62281.984375  63723.773438   32069114785  \n",
      "1801    61413.398438  63223.585938   37875330820  \n",
      "1802    62034.031250  62362.070312   42113471835  \n",
      "1803    63436.453125  63433.761719  110510446003  \n",
      "\n",
      "[1804 rows x 7 columns]\n"
     ]
    },
    {
     "name": "stderr",
     "output_type": "stream",
     "text": [
      "\n"
     ]
    }
   ],
   "source": [
    "import yfinance as yf\n",
    "import numpy as np\n",
    "import pandas as pd\n",
    "\n",
    "tickers = {}\n",
    "ticker_names = [\"BTC-EUR\", \"SOL-EUR\", \"ETH-EUR\", \"GC=F\", \"SI=F\"]\n",
    "for ticker in ticker_names:\n",
    "    tickers[ticker] = yf.download(ticker, start='2019-12-01', end='2024-11-08')\n",
    "    tickers[ticker].reset_index(inplace=True)\n",
    "\n",
    "print(tickers['BTC-EUR'])"
   ]
  },
  {
   "cell_type": "code",
   "execution_count": 108,
   "metadata": {},
   "outputs": [
    {
     "data": {
      "text/plain": [
       "{'BTC-EUR': '#892881',\n",
       " 'SOL-EUR': '#C63C73',\n",
       " 'ETH-EUR': '#F56C5B',\n",
       " 'GC=F': '#FEB57C',\n",
       " 'SI=F': '#FBFCBF'}"
      ]
     },
     "execution_count": 108,
     "metadata": {},
     "output_type": "execute_result"
    }
   ],
   "source": [
    "#Generate color palette from magma palette, excluding dark colors\n",
    "from bokeh.palettes import Magma256\n",
    "color_codes = [int(num) for num in np.linspace(100,255, len(ticker_names))]\n",
    "colors = {k: v for k, v in zip(ticker_names, [Magma256[color] for color in color_codes])}\n",
    "colors"
   ]
  },
  {
   "cell_type": "code",
   "execution_count": 109,
   "metadata": {},
   "outputs": [
    {
     "name": "stderr",
     "output_type": "stream",
     "text": [
      "/tmp/ipykernel_46702/3564617701.py:14: UserWarning: no explicit representation of timezones available for np.datetime64\n",
      "  dates = np.array(tickers['BTC-EUR']['Date'], dtype=np.datetime64)\n"
     ]
    }
   ],
   "source": [
    "import numpy as np\n",
    "from bokeh.core.properties import field\n",
    "from bokeh.plotting import figure, output_file, show, column\n",
    "from bokeh.io import curdoc\n",
    "from bokeh.models import HoverTool, ColumnDataSource, RangeTool, VSpan, LabelSet, CustomJS\n",
    "\n",
    "#Set dark theme to fit with magma palette\n",
    "curdoc().theme='dark_minimal'\n",
    "\n",
    "#The file to save the model\n",
    "output_file(\"test.html\")\n",
    "\n",
    "#Instantiate figure object\n",
    "dates = np.array(tickers['BTC-EUR']['Date'], dtype=np.datetime64)\n",
    "graph = figure(height=500, width=1000, x_axis_type = \"datetime\", title = \"Relative price changes\", \n",
    "               tools='tap,xpan,reset', x_axis_location = \"above\", x_range =(dates[-365], dates[-1])) \n",
    "\n",
    "select = figure(title=\"Drag the middle and edges of the selection box to change the range\",\n",
    "                height=150, width=1000, y_range=graph.y_range, x_axis_type=\"datetime\",\n",
    "                tools=\"\", toolbar_location=None)\n",
    "range_tool = RangeTool(x_range=graph.x_range)\n",
    "range_tool.overlay.fill_color = \"#900C3F\"\n",
    "range_tool.overlay.fill_alpha = 0.2\n",
    "\n",
    "\n",
    "#Names axes\n",
    "graph.xaxis.axis_label = 'Date'\n",
    "graph.yaxis.axis_label = '30-day price change (%)'\n",
    "\n",
    "#Plotting the line graph\n",
    "\n",
    "renderers = []\n",
    "\n",
    "#Adding prices\n",
    "for ticker_name in ticker_names:\n",
    "    relativeChange = tickers[ticker_name].Close.pct_change(30)*100\n",
    "    tickers[ticker_name]['RelativeChange'] = relativeChange\n",
    "    tickers[ticker_name] = tickers[ticker_name].dropna() \n",
    "    tickers[ticker_name]['Legend_label'] = ticker_name\n",
    "\n",
    "    source = ColumnDataSource(tickers[ticker_name])\n",
    "    color = colors[ticker_name]\n",
    "    l = graph.line('Date_', 'RelativeChange_', source=source, color=color, legend_label = ticker_name)\n",
    "    renderers.append(l)\n",
    "\n",
    "    select.line('Date_', 'RelativeChange_', source=source, color=color)\n",
    "\n",
    "#Adding vspans for historical events\n",
    "date_strings = [\"2019-12-31\", \"2020-03-11\", \"2022-02-24\", \"2023-03-10\", \"2023-10-07\", \"2024-11-05\"]\n",
    "datetime_array = np.array(date_strings, dtype=np.datetime64)\n",
    "label_strings = [\"COVID-19 identified\", \"COVID-19 declared pandemic\", \"Russia-Ukraine War begins\", \"Silicon Valley Bank Collapse\", \"Israel-Hamas conflicts begin\", \"US Election Day\"]\n",
    "\n",
    "vspan_df = pd.DataFrame(dict(dates=datetime_array, width=np.full(len(datetime_array),2), labels=label_strings))\n",
    "vspan_source = ColumnDataSource(vspan_df)\n",
    "\n",
    "vspan = VSpan(x=field(\"dates\"), line_width=field(\"width\"), line_color=\"white\", line_dash=\"dashed\")\n",
    "\n",
    "myMax = -10000\n",
    "for ticker_name in tickers:\n",
    "    currentMax = tickers[ticker_name]['RelativeChange'].max()\n",
    "    if myMax < currentMax:\n",
    "        myMax = currentMax\n",
    "\n",
    "\n",
    "labels = LabelSet(x=\"dates\", y=myMax-1, text=\"labels\", x_offset=5, source=vspan_source, text_color=\"white\")\n",
    "graph.add_glyph(vspan_source, vspan)\n",
    "select.add_glyph(vspan_source,vspan)\n",
    "graph.add_layout(labels)\n",
    "\n",
    "#Adding miscellaneous stylization\n",
    "graph.legend.location = 'top_left'\n",
    "\n",
    "hover = HoverTool(tooltips=[(\"Crypto name: \", \"@Legend_label_\"),(\"Date: \", \"@Date_{%F}\"), (\"Price change: \", \"@RelativeChange_{0.000}\")],\n",
    "                   renderers=renderers, formatters={'@Date_': 'datetime'})\n",
    "graph.add_tools(hover)\n",
    "select.ygrid.grid_line_color=None\n",
    "select.add_tools(range_tool)\n",
    "\n",
    "show(column(graph,select))"
   ]
  },
  {
   "cell_type": "markdown",
   "metadata": {},
   "source": [
    "Some sandboxing with how the RangeTool works. Will probably omit from the actual visualization"
   ]
  },
  {
   "cell_type": "code",
   "execution_count": null,
   "metadata": {},
   "outputs": [],
   "source": [
    "# https://www.geeksforgeeks.org/adding-tooltips-to-a-timeseries-chart-hover-tool-in-python-bokeh/\n",
    "import pandas as pd\n",
    "import numpy as np\n",
    "from bokeh.models import RangeTool, ColumnDataSource\n",
    "from bokeh.plotting import figure, show, column\n",
    "data = yf.download('SPY')\n",
    "data.reset_index(inplace=True)\n",
    "\n",
    "dates = np.array(data['Date'], dtype=np.datetime64)\n",
    "\n",
    "data['RelativeChange'] = data.Close / data.Close.iloc[0]\n",
    "source = ColumnDataSource(data)\n",
    "\n",
    "p = figure(height=300, width=1000,  x_axis_type = \"datetime\", title = \"Relative price changes\", tools='xpan',\n",
    "           toolbar_location = None, x_axis_location = \"above\", x_range =(dates[1500], dates[2500]))\n",
    "\n",
    "p.line('Date_', 'RelativeChange_', source=source)\n",
    "p.yaxis.axis_label=\"Relative Price\"\n",
    "\n",
    "select = figure(title=\"Drag the middle and edges of the selection box to change the range\",\n",
    "                height=150, width=1000, y_range=p.y_range, x_axis_type=\"datetime\",\n",
    "                tools=\"\", toolbar_location=None)\n",
    "\n",
    "range_tool = RangeTool(x_range=p.x_range)\n",
    "range_tool.overlay.fill_color = \"navy\"\n",
    "range_tool.overlay.fill_alpha = 0.2\n",
    "\n",
    "select.line('Date_', 'RelativeChange_', source=source)\n",
    "\n",
    "data2 = yf.download('NVDA')\n",
    "source2 = ColumnDataSource(data2)\n",
    "p.line('Date', 'Adj Close_NVDA', source=source2) \n",
    "select.line('Date', 'Adj Close_NVDA', source=source2)\n",
    "\n",
    "\n",
    "\n",
    "select.ygrid.grid_line_color=None\n",
    "select.add_tools(range_tool)\n",
    "#select.toolbar.active_multi = range_tool\n",
    "\n",
    "show(column(p,select))"
   ]
  },
  {
   "cell_type": "code",
   "execution_count": null,
   "metadata": {},
   "outputs": [],
   "source": [
    "#TLDR: This doesn't work because of bokeh bullshit\n",
    "\n",
    "#Long version:\n",
    "#Apparently Python callbacks are only for noninteractive stuff\n",
    "#Scaling the y axis would need to check all currently displayed stock data\n",
    "#which is supposed to be interactive, but the number of displayed cryptos\n",
    "#can change, and hence creation of a parameter list for the callback is impossible\n",
    "#because JS callbacks can only get rendered elements as parameters, dictionaries are not allowed\n",
    "\n",
    "#Once again, JS ruins everything\n",
    "def update_y_range(attr, old, new):\n",
    "    x_min = graph.x_range.start.astype(str)[:10]\n",
    "    x_max = graph.x_range.end.astype(str)[:10]\n",
    "\n",
    "    index_start = tickers['BTC-EUR'].index[tickers['BTC-EUR']['Date'] == x_min].tolist()[0]\n",
    "    print(tickers['BTC-EUR']['Date'][0])\n",
    "    print(index_start)\n",
    "    index_end = tickers['BTC-EUR'].index[tickers['BTC-EUR']['Date'] == x_max].tolist()[0]\n",
    "\n",
    "    myMin = 10000\n",
    "    myMax = -10000\n",
    "    for ticker_name in tickers:\n",
    "        currentMax = tickers[ticker_name]['RelativeChange'][index_start:index_end+1].max()\n",
    "        currentMin = tickers[ticker_name]['RelativeChange'][index_start:index_end+1].min()\n",
    "\n",
    "        if myMax < currentMax:\n",
    "            myMax = currentMax\n",
    "\n",
    "        if myMin > currentMin:\n",
    "            myMin = currentMin\n",
    "\n",
    "    graph.y_range.start = myMin-1\n",
    "    graph.y_range.end = myMax+1\n",
    "    labels.y=myMax-1\n",
    "    print(f\"start: {x_min}\\tend: {x_max}\\nMin: {myMin}\\nMax: {myMax}\")\n"
   ]
  }
 ],
 "metadata": {
  "kernelspec": {
   "display_name": ".venv",
   "language": "python",
   "name": "python3"
  },
  "language_info": {
   "codemirror_mode": {
    "name": "ipython",
    "version": 3
   },
   "file_extension": ".py",
   "mimetype": "text/x-python",
   "name": "python",
   "nbconvert_exporter": "python",
   "pygments_lexer": "ipython3",
   "version": "3.11.9"
  }
 },
 "nbformat": 4,
 "nbformat_minor": 2
}
